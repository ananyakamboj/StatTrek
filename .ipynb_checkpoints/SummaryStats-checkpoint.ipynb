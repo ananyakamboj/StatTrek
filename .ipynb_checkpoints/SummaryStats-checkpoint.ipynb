{
 "cells": [
  {
   "cell_type": "code",
   "execution_count": 1,
   "id": "e5c55670",
   "metadata": {},
   "outputs": [],
   "source": [
    "import pandas as pd\n",
    "import numpy as np"
   ]
  },
  {
   "cell_type": "code",
   "execution_count": 5,
   "id": "dcfe1536",
   "metadata": {
    "scrolled": true
   },
   "outputs": [
    {
     "data": {
      "text/html": [
       "<div>\n",
       "<style scoped>\n",
       "    .dataframe tbody tr th:only-of-type {\n",
       "        vertical-align: middle;\n",
       "    }\n",
       "\n",
       "    .dataframe tbody tr th {\n",
       "        vertical-align: top;\n",
       "    }\n",
       "\n",
       "    .dataframe thead th {\n",
       "        text-align: right;\n",
       "    }\n",
       "</style>\n",
       "<table border=\"1\" class=\"dataframe\">\n",
       "  <thead>\n",
       "    <tr style=\"text-align: right;\">\n",
       "      <th></th>\n",
       "      <th>Unnamed: 0</th>\n",
       "      <th>country</th>\n",
       "      <th>food_category</th>\n",
       "      <th>consumption</th>\n",
       "      <th>co2_emission</th>\n",
       "    </tr>\n",
       "  </thead>\n",
       "  <tbody>\n",
       "    <tr>\n",
       "      <th>0</th>\n",
       "      <td>1</td>\n",
       "      <td>Argentina</td>\n",
       "      <td>pork</td>\n",
       "      <td>10.51</td>\n",
       "      <td>37.20</td>\n",
       "    </tr>\n",
       "    <tr>\n",
       "      <th>1</th>\n",
       "      <td>2</td>\n",
       "      <td>Argentina</td>\n",
       "      <td>poultry</td>\n",
       "      <td>38.66</td>\n",
       "      <td>41.53</td>\n",
       "    </tr>\n",
       "    <tr>\n",
       "      <th>2</th>\n",
       "      <td>3</td>\n",
       "      <td>Argentina</td>\n",
       "      <td>beef</td>\n",
       "      <td>55.48</td>\n",
       "      <td>1712.00</td>\n",
       "    </tr>\n",
       "    <tr>\n",
       "      <th>3</th>\n",
       "      <td>4</td>\n",
       "      <td>Argentina</td>\n",
       "      <td>lamb_goat</td>\n",
       "      <td>1.56</td>\n",
       "      <td>54.63</td>\n",
       "    </tr>\n",
       "    <tr>\n",
       "      <th>4</th>\n",
       "      <td>5</td>\n",
       "      <td>Argentina</td>\n",
       "      <td>fish</td>\n",
       "      <td>4.36</td>\n",
       "      <td>6.96</td>\n",
       "    </tr>\n",
       "  </tbody>\n",
       "</table>\n",
       "</div>"
      ],
      "text/plain": [
       "   Unnamed: 0    country food_category  consumption  co2_emission\n",
       "0           1  Argentina          pork        10.51         37.20\n",
       "1           2  Argentina       poultry        38.66         41.53\n",
       "2           3  Argentina          beef        55.48       1712.00\n",
       "3           4  Argentina     lamb_goat         1.56         54.63\n",
       "4           5  Argentina          fish         4.36          6.96"
      ]
     },
     "execution_count": 5,
     "metadata": {},
     "output_type": "execute_result"
    }
   ],
   "source": [
    "food_consumption = pd.read_csv('data/food_consumption.csv')\n",
    "food_consumption.head()"
   ]
  },
  {
   "cell_type": "markdown",
   "id": "2916b08c",
   "metadata": {},
   "source": [
    "## Measures of Center"
   ]
  },
  {
   "cell_type": "markdown",
   "id": "3d712b5d",
   "metadata": {},
   "source": [
    "### Calculate the mean and median consumption of the countries Belgium and USA\n"
   ]
  },
  {
   "cell_type": "code",
   "execution_count": 6,
   "id": "2480c449",
   "metadata": {},
   "outputs": [
    {
     "name": "stdout",
     "output_type": "stream",
     "text": [
      "Mean consumption of Belgium:  42.13272727272727\n",
      "Median consumption of Belgium:  12.59\n",
      "Mean consumption of USA:  44.650000000000006\n",
      "Median consumption of USA:  14.58\n"
     ]
    }
   ],
   "source": [
    "bel_consumption = food_consumption[food_consumption['country'] == 'Belgium']\n",
    "usa_consumption = food_consumption[food_consumption['country'] == 'USA']\n",
    "\n",
    "mean_bel_consumption = np.mean(bel_consumption['consumption'])\n",
    "print(\"Mean consumption of Belgium: \", mean_bel_consumption)\n",
    "median_bel_consumption = np.median(bel_consumption['consumption'])\n",
    "print(\"Median consumption of Belgium: \", median_bel_consumption)\n",
    "\n",
    "\n",
    "mean_usa_consumption = np.mean(usa_consumption['consumption'])\n",
    "print(\"Mean consumption of USA: \", mean_usa_consumption)\n",
    "median_usa_consumption = np.median(usa_consumption['consumption'])\n",
    "print(\"Median consumption of USA: \", median_usa_consumption)"
   ]
  },
  {
   "cell_type": "markdown",
   "id": "14bb8230",
   "metadata": {},
   "source": [
    "### Subset for only Belgium and USA and calculate the mean & median for both the countries combined"
   ]
  },
  {
   "cell_type": "code",
   "execution_count": 7,
   "id": "915b6b48",
   "metadata": {},
   "outputs": [
    {
     "name": "stdout",
     "output_type": "stream",
     "text": [
      "              mean  median\n",
      "country                   \n",
      "Belgium  42.132727   12.59\n",
      "USA      44.650000   14.58\n"
     ]
    }
   ],
   "source": [
    "bel_and_usa = food_consumption[(food_consumption['country'] == 'Belgium') | (food_consumption['country'] == 'USA')]\n",
    "print(bel_and_usa.groupby('country')['consumption'].agg([np.mean, np.median]))"
   ]
  },
  {
   "cell_type": "markdown",
   "id": "bc796d92",
   "metadata": {},
   "source": [
    "### What is the co2_emission for rice?"
   ]
  },
  {
   "cell_type": "code",
   "execution_count": 9,
   "id": "8211d6d4",
   "metadata": {},
   "outputs": [
    {
     "name": "stdout",
     "output_type": "stream",
     "text": [
      "pork         130\n",
      "poultry      130\n",
      "beef         130\n",
      "lamb_goat    130\n",
      "fish         130\n",
      "eggs         130\n",
      "dairy        130\n",
      "wheat        130\n",
      "rice         130\n",
      "soybeans     130\n",
      "nuts         130\n",
      "Name: food_category, dtype: int64\n",
      "co2_emission for rice:  37.59161538461538\n"
     ]
    }
   ],
   "source": [
    "print(food_consumption['food_category'].value_counts())\n",
    "rice_consumption = food_consumption[food_consumption['food_category'] == 'rice']\n",
    "\n",
    "#co2_emission for rice\n",
    "print(\"co2_emission for rice: \", np.mean(rice_consumption['co2_emission']))"
   ]
  },
  {
   "cell_type": "code",
   "execution_count": 10,
   "id": "98807741",
   "metadata": {},
   "outputs": [
    {
     "data": {
      "image/png": "[encoded data removed]",
      "text/plain": [
       "<Figure size 640x480 with 1 Axes>"
      ]
     },
     "metadata": {},
     "output_type": "display_data"
    }
   ],
   "source": [
    "# creating a histogram\n",
    "import matplotlib.pyplot as plt\n",
    "\n",
    "rice_consumption['co2_emission'].hist()\n",
    "plt.show()"
   ]
  },
  {
   "cell_type": "markdown",
   "id": "ff933c3a",
   "metadata": {},
   "source": [
    "## Measures of Spread"
   ]
  },
  {
   "cell_type": "markdown",
   "id": "9564b66b",
   "metadata": {},
   "source": [
    "### Calculate the quartiles for co2_emission in food_consumption"
   ]
  },
  {
   "cell_type": "code",
   "execution_count": 13,
   "id": "b101e22e",
   "metadata": {},
   "outputs": [
    {
     "name": "stdout",
     "output_type": "stream",
     "text": [
      "[0.   0.25 0.5  0.75 1.  ]\n",
      "[   0.        5.21     16.53     62.5975 1712.    ]\n"
     ]
    }
   ],
   "source": [
    "quartiles = np.quantile(food_consumption['co2_emission'], np.linspace(0,1,5))\n",
    "print(np.linspace(0,1,5))\n",
    "print(quartiles)"
   ]
  },
  {
   "cell_type": "code",
   "execution_count": 14,
   "id": "d2119cee",
   "metadata": {},
   "outputs": [
    {
     "name": "stdout",
     "output_type": "stream",
     "text": [
      "[0.  0.1 0.2 0.3 0.4 0.5 0.6 0.7 0.8 0.9 1. ]\n",
      "[0.00000e+00 6.68000e-01 3.54000e+00 7.04000e+00 1.10260e+01 1.65300e+01\n",
      " 2.55900e+01 4.42710e+01 9.99780e+01 2.03629e+02 1.71200e+03]\n"
     ]
    }
   ],
   "source": [
    "# calcuating 11 quantiles: split into ten pieces\n",
    "\n",
    "quantiles_11 = np.quantile(food_consumption['co2_emission'], np.linspace(0,1,11))\n",
    "print(np.linspace(0,1,11))\n",
    "print(quantiles_11)"
   ]
  },
  {
   "cell_type": "markdown",
   "id": "caa38782",
   "metadata": {},
   "source": [
    "### Variance and Standard Deviation"
   ]
  },
  {
   "cell_type": "markdown",
   "id": "b124afce",
   "metadata": {},
   "source": [
    "### Calculate the variance and standard deviation of co2_emission for each food_category by grouping and aggregating"
   ]
  },
  {
   "cell_type": "code",
   "execution_count": 15,
   "id": "deb4328e",
   "metadata": {},
   "outputs": [
    {
     "name": "stdout",
     "output_type": "stream",
     "text": [
      "                        var         std\n",
      "food_category                          \n",
      "beef           88748.408132  297.906710\n",
      "dairy          17671.891985  132.935669\n",
      "eggs              21.371819    4.622966\n",
      "fish             921.637349   30.358481\n",
      "lamb_goat      16475.518363  128.356996\n",
      "nuts              35.639652    5.969895\n",
      "pork            3094.963537   55.632396\n",
      "poultry          245.026801   15.653332\n",
      "rice            2281.376243   47.763754\n",
      "soybeans           0.879882    0.938020\n",
      "wheat             71.023937    8.427570\n"
     ]
    }
   ],
   "source": [
    "vars_stds = food_consumption.groupby('food_category')['co2_emission'].agg([np.var, np.std])\n",
    "print(vars_stds)"
   ]
  },
  {
   "cell_type": "code",
   "execution_count": 19,
   "id": "43bdda7f",
   "metadata": {},
   "outputs": [
    {
     "data": {
      "image/png": "[encoded data removed]",
      "text/plain": [
       "<Figure size 640x480 with 1 Axes>"
      ]
     },
     "metadata": {},
     "output_type": "display_data"
    },
    {
     "data": {
      "image/png": "[encoded data removed]",
      "text/plain": [
       "<Figure size 640x480 with 1 Axes>"
      ]
     },
     "metadata": {},
     "output_type": "display_data"
    }
   ],
   "source": [
    "beef_consumption = food_consumption[food_consumption['food_category'] == 'beef']\n",
    "egg_consumption = food_consumption[food_consumption['food_category'] == 'eggs']\n",
    "\n",
    "#histogram for beef\n",
    "beef_consumption['co2_emission'].hist()\n",
    "plt.title(\"Histogram for co2_emission of beef food category\")\n",
    "plt.show()\n",
    "\n",
    "#histogram for eggs\n",
    "egg_consumption['co2_emission'].hist()\n",
    "plt.title(\"Histogram for co2_emission of Egg food category\")\n",
    "plt.show()"
   ]
  },
  {
   "cell_type": "markdown",
   "id": "31ddf6c1",
   "metadata": {},
   "source": [
    "## Identifying Outliers\n"
   ]
  },
  {
   "cell_type": "code",
   "execution_count": 20,
   "id": "512c4a4e",
   "metadata": {},
   "outputs": [
    {
     "name": "stdout",
     "output_type": "stream",
     "text": [
      "               sum\n",
      "country           \n",
      "Albania    1777.85\n",
      "Algeria     707.88\n",
      "Angola      412.99\n",
      "Argentina  2172.40\n",
      "Armenia    1109.93\n",
      "...            ...\n",
      "Uruguay    1634.91\n",
      "Venezuela  1104.10\n",
      "Vietnam     641.51\n",
      "Zambia      225.30\n",
      "Zimbabwe    350.33\n",
      "\n",
      "[130 rows x 1 columns]\n"
     ]
    }
   ],
   "source": [
    "emissions_by_country = food_consumption.groupby('country')['co2_emission'].agg([np.sum])\n",
    "\n",
    "print(emissions_by_country)"
   ]
  },
  {
   "cell_type": "code",
   "execution_count": 24,
   "id": "2141c946",
   "metadata": {},
   "outputs": [
    {
     "name": "stdout",
     "output_type": "stream",
     "text": [
      "               sum\n",
      "country           \n",
      "Albania    1777.85\n",
      "Argentina  2172.40\n",
      "Australia  1938.66\n"
     ]
    }
   ],
   "source": [
    "q1 = np.quantile(emissions_by_country, 0.25)\n",
    "q3 = np.quantile(emissions_by_country, 0.75)\n",
    "\n",
    "iqr = q3 - q1\n",
    "\n",
    "lower_limit = q1 - iqr\n",
    "upper_limit = q3 + iqr\n",
    "\n",
    "outliers = emissions_by_country[(emissions_by_country < lower_limit) | (emissions_by_country > upper_limit)].dropna()\n",
    "print(outliers)"
   ]
  },
  {
   "cell_type": "code",
   "execution_count": null,
   "id": "9f84d0bb",
   "metadata": {},
   "outputs": [],
   "source": []
  }
 ],
 "metadata": {
  "kernelspec": {
   "display_name": "Python 3 (ipykernel)",
   "language": "python",
   "name": "python3"
  },
  "language_info": {
   "codemirror_mode": {
    "name": "ipython",
    "version": 3
   },
   "file_extension": ".py",
   "mimetype": "text/x-python",
   "name": "python",
   "nbconvert_exporter": "python",
   "pygments_lexer": "ipython3",
   "version": "3.10.9"
  }
 },
 "nbformat": 4,
 "nbformat_minor": 5
}
