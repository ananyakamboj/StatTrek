{
 "cells": [
  {
   "cell_type": "code",
   "execution_count": 1,
   "id": "8c801892",
   "metadata": {},
   "outputs": [],
   "source": [
    "import pandas as pd\n",
    "import numpy as np"
   ]
  },
  {
   "cell_type": "code",
   "execution_count": 2,
   "id": "c78be4b6",
   "metadata": {
    "scrolled": true
   },
   "outputs": [
    {
     "data": {
      "text/html": [
       "<div>\n",
       "<style scoped>\n",
       "    .dataframe tbody tr th:only-of-type {\n",
       "        vertical-align: middle;\n",
       "    }\n",
       "\n",
       "    .dataframe tbody tr th {\n",
       "        vertical-align: top;\n",
       "    }\n",
       "\n",
       "    .dataframe thead th {\n",
       "        text-align: right;\n",
       "    }\n",
       "</style>\n",
       "<table border=\"1\" class=\"dataframe\">\n",
       "  <thead>\n",
       "    <tr style=\"text-align: right;\">\n",
       "      <th></th>\n",
       "      <th>Unnamed: 0</th>\n",
       "      <th>product</th>\n",
       "      <th>client</th>\n",
       "      <th>status</th>\n",
       "      <th>amount</th>\n",
       "      <th>num_users</th>\n",
       "    </tr>\n",
       "  </thead>\n",
       "  <tbody>\n",
       "    <tr>\n",
       "      <th>0</th>\n",
       "      <td>1</td>\n",
       "      <td>Product F</td>\n",
       "      <td>Current</td>\n",
       "      <td>Won</td>\n",
       "      <td>7389.52</td>\n",
       "      <td>19</td>\n",
       "    </tr>\n",
       "    <tr>\n",
       "      <th>1</th>\n",
       "      <td>2</td>\n",
       "      <td>Product C</td>\n",
       "      <td>New</td>\n",
       "      <td>Won</td>\n",
       "      <td>4493.01</td>\n",
       "      <td>43</td>\n",
       "    </tr>\n",
       "    <tr>\n",
       "      <th>2</th>\n",
       "      <td>3</td>\n",
       "      <td>Product B</td>\n",
       "      <td>New</td>\n",
       "      <td>Won</td>\n",
       "      <td>5738.09</td>\n",
       "      <td>87</td>\n",
       "    </tr>\n",
       "    <tr>\n",
       "      <th>3</th>\n",
       "      <td>4</td>\n",
       "      <td>Product I</td>\n",
       "      <td>Current</td>\n",
       "      <td>Won</td>\n",
       "      <td>2591.24</td>\n",
       "      <td>83</td>\n",
       "    </tr>\n",
       "    <tr>\n",
       "      <th>4</th>\n",
       "      <td>5</td>\n",
       "      <td>Product E</td>\n",
       "      <td>Current</td>\n",
       "      <td>Won</td>\n",
       "      <td>6622.97</td>\n",
       "      <td>17</td>\n",
       "    </tr>\n",
       "  </tbody>\n",
       "</table>\n",
       "</div>"
      ],
      "text/plain": [
       "   Unnamed: 0    product   client status   amount  num_users\n",
       "0           1  Product F  Current    Won  7389.52         19\n",
       "1           2  Product C      New    Won  4493.01         43\n",
       "2           3  Product B      New    Won  5738.09         87\n",
       "3           4  Product I  Current    Won  2591.24         83\n",
       "4           5  Product E  Current    Won  6622.97         17"
      ]
     },
     "execution_count": 2,
     "metadata": {},
     "output_type": "execute_result"
    }
   ],
   "source": [
    "amir_deals = pd.read_csv('data/amir_deals.csv')\n",
    "amir_deals.head()"
   ]
  },
  {
   "cell_type": "code",
   "execution_count": 3,
   "id": "3cf77859",
   "metadata": {},
   "outputs": [
    {
     "data": {
      "text/plain": [
       "(178, 6)"
      ]
     },
     "execution_count": 3,
     "metadata": {},
     "output_type": "execute_result"
    }
   ],
   "source": [
    "amir_deals.shape"
   ]
  },
  {
   "cell_type": "markdown",
   "id": "17841bab",
   "metadata": {},
   "source": [
    "# Sampling the deals"
   ]
  },
  {
   "cell_type": "markdown",
   "id": "4fd7be7c",
   "metadata": {},
   "source": [
    "Finding the number of deals associated with each product type."
   ]
  },
  {
   "cell_type": "code",
   "execution_count": 4,
   "id": "7a0c3f4e",
   "metadata": {},
   "outputs": [
    {
     "name": "stdout",
     "output_type": "stream",
     "text": [
      "Product B    62\n",
      "Product D    40\n",
      "Product A    23\n",
      "Product C    15\n",
      "Product F    11\n",
      "Product H     8\n",
      "Product I     7\n",
      "Product E     5\n",
      "Product N     3\n",
      "Product G     2\n",
      "Product J     2\n",
      "Name: product, dtype: int64\n"
     ]
    }
   ],
   "source": [
    "counts = amir_deals['product'].value_counts()\n",
    "print(counts)"
   ]
  },
  {
   "cell_type": "markdown",
   "id": "c7f4f831",
   "metadata": {},
   "source": [
    "### What is the probability of selecting a deal for the different product types?"
   ]
  },
  {
   "cell_type": "code",
   "execution_count": 5,
   "id": "e08308b7",
   "metadata": {},
   "outputs": [
    {
     "name": "stdout",
     "output_type": "stream",
     "text": [
      "Product B    0.348315\n",
      "Product D    0.224719\n",
      "Product A    0.129213\n",
      "Product C    0.084270\n",
      "Product F    0.061798\n",
      "Product H    0.044944\n",
      "Product I    0.039326\n",
      "Product E    0.028090\n",
      "Product N    0.016854\n",
      "Product G    0.011236\n",
      "Product J    0.011236\n",
      "Name: product, dtype: float64\n"
     ]
    }
   ],
   "source": [
    "probs = counts / amir_deals['product'].value_counts().sum()\n",
    "\n",
    "print(probs)"
   ]
  },
  {
   "cell_type": "markdown",
   "id": "6c4d4010",
   "metadata": {},
   "source": [
    "### Randomnly pick 5 deals with replacement and without replacement\n"
   ]
  },
  {
   "cell_type": "code",
   "execution_count": 6,
   "id": "a7833d2f",
   "metadata": {},
   "outputs": [
    {
     "name": "stdout",
     "output_type": "stream",
     "text": [
      "     Unnamed: 0    product   client status   amount  num_users\n",
      "127         128  Product B  Current    Won  2070.25          7\n",
      "148         149  Product D  Current    Won  3485.48         52\n",
      "77           78  Product B  Current    Won  6252.30         27\n",
      "104         105  Product D  Current    Won  4110.98         39\n",
      "166         167  Product C      New   Lost  3779.86         11\n",
      "\n",
      " WITH REPLACEMENT \n",
      "\n",
      "     Unnamed: 0    product   client status   amount  num_users\n",
      "133         134  Product D  Current    Won  5992.86         98\n",
      "101         102  Product H  Current    Won  5116.34         63\n",
      "110         111  Product B  Current    Won   696.88         44\n",
      "49           50  Product B  Current    Won  3488.36         79\n",
      "56           57  Product D  Current    Won  6820.84         42\n"
     ]
    }
   ],
   "source": [
    "#step 1: set the seed to get the same value everytime\n",
    "\n",
    "np.random.seed(24)\n",
    "\n",
    "#without replacement\n",
    "sample_without_replacement= amir_deals.sample(5, replace = False)\n",
    "print(sample_without_replacement)\n",
    "\n",
    "print(\"\\n WITH REPLACEMENT \\n\")\n",
    "#with replacement\n",
    "sample_with_replacement= amir_deals.sample(5, replace = True)\n",
    "print(sample_with_replacement)"
   ]
  },
  {
   "cell_type": "markdown",
   "id": "349f42a1",
   "metadata": {},
   "source": [
    "## Creating a Probability Distribution"
   ]
  },
  {
   "cell_type": "code",
   "execution_count": 7,
   "id": "a968e10e",
   "metadata": {},
   "outputs": [
    {
     "data": {
      "image/png": "[encoded data removed]",
      "text/plain": [
       "<Figure size 640x480 with 1 Axes>"
      ]
     },
     "metadata": {},
     "output_type": "display_data"
    }
   ],
   "source": [
    "import matplotlib.pyplot as plt\n",
    "\n",
    "amir_deals['amount'].hist(bins = np.linspace(0,10000,6))\n",
    "plt.show()"
   ]
  },
  {
   "cell_type": "code",
   "execution_count": 8,
   "id": "1db97ec0",
   "metadata": {},
   "outputs": [
    {
     "name": "stdout",
     "output_type": "stream",
     "text": [
      "                  mean\n",
      "product               \n",
      "Product A  5228.240000\n",
      "Product B  4840.396452\n",
      "Product C  3386.596667\n",
      "Product D  5094.949000\n",
      "Product E  4894.302000\n",
      "Product F  4977.383636\n",
      "Product G  6671.095000\n",
      "Product H  4432.011250\n",
      "Product I  3915.044286\n",
      "Product J  3725.980000\n",
      "Product N  6235.590000\n"
     ]
    },
    {
     "data": {
      "text/html": [
       "<div>\n",
       "<style scoped>\n",
       "    .dataframe tbody tr th:only-of-type {\n",
       "        vertical-align: middle;\n",
       "    }\n",
       "\n",
       "    .dataframe tbody tr th {\n",
       "        vertical-align: top;\n",
       "    }\n",
       "\n",
       "    .dataframe thead th {\n",
       "        text-align: right;\n",
       "    }\n",
       "</style>\n",
       "<table border=\"1\" class=\"dataframe\">\n",
       "  <thead>\n",
       "    <tr style=\"text-align: right;\">\n",
       "      <th></th>\n",
       "      <th>mean</th>\n",
       "      <th>counts</th>\n",
       "      <th>probs</th>\n",
       "    </tr>\n",
       "    <tr>\n",
       "      <th>product</th>\n",
       "      <th></th>\n",
       "      <th></th>\n",
       "      <th></th>\n",
       "    </tr>\n",
       "  </thead>\n",
       "  <tbody>\n",
       "    <tr>\n",
       "      <th>Product A</th>\n",
       "      <td>5228.240000</td>\n",
       "      <td>23</td>\n",
       "      <td>0.129213</td>\n",
       "    </tr>\n",
       "    <tr>\n",
       "      <th>Product B</th>\n",
       "      <td>4840.396452</td>\n",
       "      <td>62</td>\n",
       "      <td>0.348315</td>\n",
       "    </tr>\n",
       "    <tr>\n",
       "      <th>Product C</th>\n",
       "      <td>3386.596667</td>\n",
       "      <td>15</td>\n",
       "      <td>0.084270</td>\n",
       "    </tr>\n",
       "    <tr>\n",
       "      <th>Product D</th>\n",
       "      <td>5094.949000</td>\n",
       "      <td>40</td>\n",
       "      <td>0.224719</td>\n",
       "    </tr>\n",
       "    <tr>\n",
       "      <th>Product E</th>\n",
       "      <td>4894.302000</td>\n",
       "      <td>5</td>\n",
       "      <td>0.028090</td>\n",
       "    </tr>\n",
       "  </tbody>\n",
       "</table>\n",
       "</div>"
      ],
      "text/plain": [
       "                  mean  counts     probs\n",
       "product                                 \n",
       "Product A  5228.240000      23  0.129213\n",
       "Product B  4840.396452      62  0.348315\n",
       "Product C  3386.596667      15  0.084270\n",
       "Product D  5094.949000      40  0.224719\n",
       "Product E  4894.302000       5  0.028090"
      ]
     },
     "execution_count": 8,
     "metadata": {},
     "output_type": "execute_result"
    }
   ],
   "source": [
    "# What is the mean amount for each product type\n",
    "mean_amount_by_product = amir_deals.groupby('product')['amount'].agg([np.mean])\n",
    "print(mean_amount_by_product)\n",
    "      \n",
    "#Now you have expected value of each product\n",
    "\n",
    "mean_amount_by_product['counts'] = amir_deals['product'].value_counts()\n",
    "mean_amount_by_product['probs'] = probs\n",
    "\n",
    "mean_amount_by_product.head()"
   ]
  },
  {
   "cell_type": "code",
   "execution_count": 9,
   "id": "9a18effc",
   "metadata": {},
   "outputs": [
    {
     "name": "stdout",
     "output_type": "stream",
     "text": [
      "4812.000337078651\n",
      "4812.000337078652\n"
     ]
    }
   ],
   "source": [
    "## Expected Value of a deal\n",
    "\n",
    "expected_value = np.sum(mean_amount_by_product['mean'] * mean_amount_by_product['probs'])\n",
    "print(expected_value)\n",
    "\n",
    "\n",
    "#method 2\n",
    "e2 = np.mean(amir_deals['amount'])\n",
    "print(e2)"
   ]
  },
  {
   "cell_type": "markdown",
   "id": "89d15e25",
   "metadata": {},
   "source": [
    "# Continuous Distributions"
   ]
  },
  {
   "cell_type": "code",
   "execution_count": 10,
   "id": "46e5397c",
   "metadata": {},
   "outputs": [],
   "source": [
    "#The sales software used at your company is set to automatically back itself up, but no one knows exactly what time the back-ups happen. \n",
    "#It is known, however, that back-ups happen exactly every 30 minutes.\n",
    "min_time = 0\n",
    "max_time = 30"
   ]
  },
  {
   "cell_type": "markdown",
   "id": "fc6c48bf",
   "metadata": {},
   "source": [
    "## Uniform distribution with probabilities"
   ]
  },
  {
   "cell_type": "code",
   "execution_count": 11,
   "id": "2c6b4264",
   "metadata": {},
   "outputs": [
    {
     "name": "stdout",
     "output_type": "stream",
     "text": [
      "0.16666666666666666\n",
      "0.8333333333333334\n",
      "0.3333333333333333\n"
     ]
    }
   ],
   "source": [
    "#draw a uniform distibution and calculate the probability of waiting 5 or less minutes\n",
    "from scipy.stats import uniform\n",
    "\n",
    "prob_less_than_5 = uniform.cdf(5,0,30)\n",
    "print(prob_less_than_5)\n",
    "\n",
    "prob_more_than_5 = 1 - uniform.cdf(5,0,30)\n",
    "print(prob_more_than_5)\n",
    "\n",
    "prob_10_20 = uniform.cdf(20,0,30) - uniform.cdf(10, 0, 30)\n",
    "print(prob_10_20)"
   ]
  },
  {
   "cell_type": "markdown",
   "id": "9e2b9a36",
   "metadata": {},
   "source": [
    "## Generating random numbers from uniform distribution"
   ]
  },
  {
   "cell_type": "code",
   "execution_count": 12,
   "id": "e993e9db",
   "metadata": {},
   "outputs": [
    {
     "name": "stdout",
     "output_type": "stream",
     "text": [
      "5 random values:  [17.53732609 27.1316477   0.58179034 15.58291408  7.87247851]\n"
     ]
    }
   ],
   "source": [
    "#generating random numbers from uniform distribution\n",
    "values = uniform.rvs(min_time, max_time, 5)\n",
    "print(\"5 random values: \", values)"
   ]
  },
  {
   "cell_type": "code",
   "execution_count": 13,
   "id": "89c99e4c",
   "metadata": {},
   "outputs": [
    {
     "data": {
      "image/png": "[encoded data removed]",
      "text/plain": [
       "<Figure size 640x480 with 1 Axes>"
      ]
     },
     "metadata": {},
     "output_type": "display_data"
    }
   ],
   "source": [
    "#Generating 1000 simulations of wait times\n",
    "np.random.seed(334)\n",
    "wait_times_1000 = uniform.rvs(min_time, max_time,1000)\n",
    "\n",
    "#wait_times_1000 is a np array: plt.hist(wait_times)\n",
    "plt.hist(wait_times_1000)\n",
    "plt.show()"
   ]
  },
  {
   "cell_type": "code",
   "execution_count": 14,
   "id": "022b05ee",
   "metadata": {},
   "outputs": [
    {
     "data": {
      "text/plain": [
       "array([1])"
      ]
     },
     "execution_count": 14,
     "metadata": {},
     "output_type": "execute_result"
    }
   ],
   "source": [
    "# Binomial Distributions\n",
    "'''Binary Outcomes'''\n",
    "\n",
    "from scipy.stats import binom\n",
    "\n",
    "#syntax: binom.rvs(# of coins, probability of heads/success, size=# of trials) \n",
    "    \n",
    "#flipping 1 coin\n",
    "binom.rvs(1,0.5, size = 1)"
   ]
  },
  {
   "cell_type": "code",
   "execution_count": 15,
   "id": "b4ed732a",
   "metadata": {},
   "outputs": [
    {
     "data": {
      "text/plain": [
       "array([1, 0, 0, 1, 0, 0, 1, 0])"
      ]
     },
     "execution_count": 15,
     "metadata": {},
     "output_type": "execute_result"
    }
   ],
   "source": [
    "# flipping one coin 8 times\n",
    "binom.rvs(1, 0.5, size = 8)"
   ]
  },
  {
   "cell_type": "code",
   "execution_count": 16,
   "id": "2ac0b3ff",
   "metadata": {},
   "outputs": [
    {
     "data": {
      "text/plain": [
       "array([3])"
      ]
     },
     "execution_count": 16,
     "metadata": {},
     "output_type": "execute_result"
    }
   ],
   "source": [
    "#flipping 8 coins one time\n",
    "binom.rvs(8,0.5, size = 1)\n",
    "\n",
    "#returns the number of heads"
   ]
  },
  {
   "cell_type": "code",
   "execution_count": 17,
   "id": "05b3707f",
   "metadata": {},
   "outputs": [
    {
     "data": {
      "text/plain": [
       "0.11718750000000004"
      ]
     },
     "execution_count": 17,
     "metadata": {},
     "output_type": "execute_result"
    }
   ],
   "source": [
    "# binom.pmf(num heads, num trials, prob of heads\n",
    "binom.pmf(7,10,0.5)"
   ]
  },
  {
   "cell_type": "code",
   "execution_count": 18,
   "id": "bc9e447b",
   "metadata": {},
   "outputs": [
    {
     "data": {
      "text/plain": [
       "0.9453125"
      ]
     },
     "execution_count": 18,
     "metadata": {},
     "output_type": "execute_result"
    }
   ],
   "source": [
    "binom.cdf(7,10,0.5)\n",
    "#probability of getting 7 or less heads on 10 flips"
   ]
  },
  {
   "cell_type": "markdown",
   "id": "5ade084d",
   "metadata": {},
   "source": [
    "# Normal Distribution"
   ]
  },
  {
   "cell_type": "code",
   "execution_count": 19,
   "id": "f93ecc37",
   "metadata": {},
   "outputs": [
    {
     "name": "stdout",
     "output_type": "stream",
     "text": [
      "% of women shorter than 154 cm: 0.003167124183311986 \n",
      "\n",
      "10 random heights from the distribution: [170.65765776 166.87207224 160.29369336 165.79932365 162.10283104\n",
      " 162.80149792 164.82903532 170.90550085 164.77748887 166.67399952]\n",
      "90% women are shorter than:  169.9708609588122\n",
      "90% women are taller than:  152.0291390411878\n"
     ]
    }
   ],
   "source": [
    "from scipy.stats import norm\n",
    "\n",
    "#what % of women are shorter than 154 cm?\n",
    "#syntax: norm.cdf(154, mean, std)\n",
    "women_shorter_than_154 = norm.cdf(154,166,3)\n",
    "print(\"% of women shorter than 154 cm:\", women_shorter_than_154*100, \"\\n\")\n",
    "\n",
    "#generating 10 random numbers from the normal distribution\n",
    "#syntax: norm.rvs(mean, std, size = 10)\n",
    "\n",
    "random_heights = norm.rvs(166,3,10)\n",
    "print(\"10 random heights from the distribution:\", random_heights )\n",
    "\n",
    "\n",
    "# what height are 90% women shorter than: calculate 90th percentile# \n",
    "value = norm.ppf(0.9, 161, 7)\n",
    "print(\"90% women are shorter than: \", value)\n",
    "\n",
    "# what height are 90% women taller than: calculate 10th percentile\n",
    "value = norm.ppf(0.1, 161, 7)\n",
    "print(\"90% women are taller than: \", value)"
   ]
  },
  {
   "cell_type": "markdown",
   "id": "9b1fb4b2",
   "metadata": {},
   "source": [
    "## Amir's Deals\n",
    "\n",
    "### Visualize the amount of Amir's Deals. Is it normal?"
   ]
  },
  {
   "cell_type": "code",
   "execution_count": 20,
   "id": "f5accc65",
   "metadata": {},
   "outputs": [
    {
     "data": {
      "image/png": "[encoded data removed]",
      "text/plain": [
       "<Figure size 640x480 with 1 Axes>"
      ]
     },
     "metadata": {},
     "output_type": "display_data"
    }
   ],
   "source": [
    "amir_deals['amount'].hist(bins = 10)\n",
    "plt.show()\n"
   ]
  },
  {
   "cell_type": "markdown",
   "id": "37337099",
   "metadata": {},
   "source": [
    "It is a normal distribution. "
   ]
  },
  {
   "cell_type": "markdown",
   "id": "2e983107",
   "metadata": {},
   "source": [
    "### What's the probability of Amir closing a deal worth less than $7500?"
   ]
  },
  {
   "cell_type": "code",
   "execution_count": 21,
   "id": "4ff9bd39",
   "metadata": {},
   "outputs": [
    {
     "name": "stdout",
     "output_type": "stream",
     "text": [
      "0.9048507292128808\n"
     ]
    }
   ],
   "source": [
    "mean = np.mean(amir_deals['amount'])\n",
    "std = np.std(amir_deals['amount'])\n",
    "\n",
    "prob_less_than_7500 = norm.cdf(7500, mean, std)\n",
    "print(prob_less_than_7500)"
   ]
  },
  {
   "cell_type": "markdown",
   "id": "bb0981e4",
   "metadata": {},
   "source": [
    "### What's the probability of Amir closing a deal worth more than $1000?"
   ]
  },
  {
   "cell_type": "code",
   "execution_count": 22,
   "id": "b50af6a2",
   "metadata": {},
   "outputs": [
    {
     "name": "stdout",
     "output_type": "stream",
     "text": [
      "0.9683695021571027\n"
     ]
    }
   ],
   "source": [
    "prob_more_than_1000 = 1 - norm.cdf(1000, mean, std)\n",
    "print(prob_more_than_1000)"
   ]
  },
  {
   "cell_type": "markdown",
   "id": "b1815010",
   "metadata": {},
   "source": [
    "### What's the probability of Amir closing a deal worth between $3000  $and$ $7000?"
   ]
  },
  {
   "cell_type": "code",
   "execution_count": 23,
   "id": "e2f717c6",
   "metadata": {},
   "outputs": [
    {
     "name": "stdout",
     "output_type": "stream",
     "text": [
      "0.6681540168075063\n"
     ]
    }
   ],
   "source": [
    "prob_3000_to_7000 = norm.cdf(7000,mean,std) - norm.cdf(3000,mean,std)\n",
    "print(prob_3000_to_7000)"
   ]
  },
  {
   "cell_type": "markdown",
   "id": "e27380ea",
   "metadata": {},
   "source": [
    "### What amount will 25% of Amir's sales be less than?"
   ]
  },
  {
   "cell_type": "code",
   "execution_count": 24,
   "id": "cf838d26",
   "metadata": {},
   "outputs": [
    {
     "name": "stdout",
     "output_type": "stream",
     "text": [
      "3427.6885699296663\n"
     ]
    }
   ],
   "source": [
    "less_than_25 = norm.ppf(0.25, mean, std)\n",
    "print(less_than_25)"
   ]
  },
  {
   "cell_type": "markdown",
   "id": "179759fb",
   "metadata": {},
   "source": [
    "## CENTRAL LIMIT THEOREM"
   ]
  },
  {
   "cell_type": "code",
   "execution_count": 25,
   "id": "3ef9dd83",
   "metadata": {},
   "outputs": [
    {
     "data": {
      "image/png": "[encoded data removed]",
      "text/plain": [
       "<Figure size 640x480 with 1 Axes>"
      ]
     },
     "metadata": {},
     "output_type": "display_data"
    }
   ],
   "source": [
    "# Set seed to 104\n",
    "np.random.seed(104)\n",
    "\n",
    "sample_means = []\n",
    "# Loop 100 times\n",
    "for i in range(100):\n",
    "  # Take sample of 20 num_users\n",
    "  samp_20 = amir_deals['num_users'].sample(20, replace=True)\n",
    "  # Calculate mean of samp_20\n",
    "  samp_20_mean = np.mean(samp_20)\n",
    "  # Append samp_20_mean to sample_means\n",
    "  sample_means.append(samp_20_mean)\n",
    "  \n",
    "# Convert to Series and plot histogram\n",
    "sample_means_series = pd.Series(sample_means)\n",
    "sample_means_series.hist()\n",
    "# Show plot\n",
    "plt.show()"
   ]
  },
  {
   "cell_type": "markdown",
   "id": "23e86131",
   "metadata": {},
   "source": [
    "## Poisson's Distribution\n"
   ]
  },
  {
   "cell_type": "code",
   "execution_count": 26,
   "id": "5f4ad02a",
   "metadata": {},
   "outputs": [
    {
     "data": {
      "text/plain": [
       "0.09160366159257921"
      ]
     },
     "execution_count": 26,
     "metadata": {},
     "output_type": "execute_result"
    }
   ],
   "source": [
    "from scipy.stats import poisson\n",
    "mean = 8\n",
    "\n",
    "poisson.pmf(5,8)"
   ]
  },
  {
   "cell_type": "code",
   "execution_count": 27,
   "id": "85e16c96",
   "metadata": {},
   "outputs": [
    {
     "data": {
      "text/plain": [
       "0.19123606207962532"
      ]
     },
     "execution_count": 27,
     "metadata": {},
     "output_type": "execute_result"
    }
   ],
   "source": [
    "poisson.cdf(5, 8)"
   ]
  },
  {
   "cell_type": "markdown",
   "id": "861cd1a8",
   "metadata": {},
   "source": [
    "## Lambda -> where the distribution peaks or expected value of poisson's distribution\n",
    "\n",
    "## Exponential distribution, expected value = 1/lambda, this is called scale. \n",
    "\n",
    "## T- distribution -> dof, higher df = closer to normal\n",
    "\n",
    "## Log Normal Distribution -> Blood Pressure, Hospitals in Epidemic"
   ]
  },
  {
   "cell_type": "markdown",
   "id": "163e57fc",
   "metadata": {},
   "source": [
    "# Exponential Distribution"
   ]
  },
  {
   "cell_type": "code",
   "execution_count": 28,
   "id": "168bbae2",
   "metadata": {},
   "outputs": [
    {
     "name": "stdout",
     "output_type": "stream",
     "text": [
      "0.20189651799465536\n"
     ]
    }
   ],
   "source": [
    "from scipy.stats import expon\n",
    "\n",
    "# Print probability response takes > 4 hours\n",
    "# syntax: expon.cdf(4, scale = 1/lambda)\n",
    "print(1- expon.cdf(4,scale = 2.5))"
   ]
  },
  {
   "cell_type": "markdown",
   "id": "8c86599a",
   "metadata": {},
   "source": [
    "# Correlation (r)\n",
    "\n",
    "### Visualize them -> Scatter Plot\n",
    "###  Examine -> Correlation\n",
    "### Strength -> Magntiude\n",
    "### Direction -> Sign"
   ]
  },
  {
   "cell_type": "code",
   "execution_count": 30,
   "id": "eee5631f",
   "metadata": {
    "scrolled": true
   },
   "outputs": [
    {
     "name": "stdout",
     "output_type": "stream",
     "text": [
      "amir_deals.csv        food_consumption.csv  world_happiness.csv\r\n"
     ]
    }
   ],
   "source": [
    "ls data"
   ]
  },
  {
   "cell_type": "code",
   "execution_count": 31,
   "id": "7df73d7e",
   "metadata": {},
   "outputs": [
    {
     "data": {
      "text/html": [
       "<div>\n",
       "<style scoped>\n",
       "    .dataframe tbody tr th:only-of-type {\n",
       "        vertical-align: middle;\n",
       "    }\n",
       "\n",
       "    .dataframe tbody tr th {\n",
       "        vertical-align: top;\n",
       "    }\n",
       "\n",
       "    .dataframe thead th {\n",
       "        text-align: right;\n",
       "    }\n",
       "</style>\n",
       "<table border=\"1\" class=\"dataframe\">\n",
       "  <thead>\n",
       "    <tr style=\"text-align: right;\">\n",
       "      <th></th>\n",
       "      <th>Unnamed: 0</th>\n",
       "      <th>country</th>\n",
       "      <th>social_support</th>\n",
       "      <th>freedom</th>\n",
       "      <th>corruption</th>\n",
       "      <th>generosity</th>\n",
       "      <th>gdp_per_cap</th>\n",
       "      <th>life_exp</th>\n",
       "      <th>happiness_score</th>\n",
       "    </tr>\n",
       "  </thead>\n",
       "  <tbody>\n",
       "    <tr>\n",
       "      <th>0</th>\n",
       "      <td>1</td>\n",
       "      <td>Finland</td>\n",
       "      <td>2.0</td>\n",
       "      <td>5.0</td>\n",
       "      <td>4.0</td>\n",
       "      <td>47.0</td>\n",
       "      <td>42400</td>\n",
       "      <td>81.8</td>\n",
       "      <td>155</td>\n",
       "    </tr>\n",
       "    <tr>\n",
       "      <th>1</th>\n",
       "      <td>2</td>\n",
       "      <td>Denmark</td>\n",
       "      <td>4.0</td>\n",
       "      <td>6.0</td>\n",
       "      <td>3.0</td>\n",
       "      <td>22.0</td>\n",
       "      <td>48300</td>\n",
       "      <td>81.0</td>\n",
       "      <td>154</td>\n",
       "    </tr>\n",
       "    <tr>\n",
       "      <th>2</th>\n",
       "      <td>3</td>\n",
       "      <td>Norway</td>\n",
       "      <td>3.0</td>\n",
       "      <td>3.0</td>\n",
       "      <td>8.0</td>\n",
       "      <td>11.0</td>\n",
       "      <td>66300</td>\n",
       "      <td>82.6</td>\n",
       "      <td>153</td>\n",
       "    </tr>\n",
       "    <tr>\n",
       "      <th>3</th>\n",
       "      <td>4</td>\n",
       "      <td>Iceland</td>\n",
       "      <td>1.0</td>\n",
       "      <td>7.0</td>\n",
       "      <td>45.0</td>\n",
       "      <td>3.0</td>\n",
       "      <td>47900</td>\n",
       "      <td>83.0</td>\n",
       "      <td>152</td>\n",
       "    </tr>\n",
       "    <tr>\n",
       "      <th>4</th>\n",
       "      <td>5</td>\n",
       "      <td>Netherlands</td>\n",
       "      <td>15.0</td>\n",
       "      <td>19.0</td>\n",
       "      <td>12.0</td>\n",
       "      <td>7.0</td>\n",
       "      <td>50500</td>\n",
       "      <td>81.8</td>\n",
       "      <td>151</td>\n",
       "    </tr>\n",
       "  </tbody>\n",
       "</table>\n",
       "</div>"
      ],
      "text/plain": [
       "   Unnamed: 0      country  social_support  freedom  corruption  generosity  \\\n",
       "0           1      Finland             2.0      5.0         4.0        47.0   \n",
       "1           2      Denmark             4.0      6.0         3.0        22.0   \n",
       "2           3       Norway             3.0      3.0         8.0        11.0   \n",
       "3           4      Iceland             1.0      7.0        45.0         3.0   \n",
       "4           5  Netherlands            15.0     19.0        12.0         7.0   \n",
       "\n",
       "   gdp_per_cap  life_exp  happiness_score  \n",
       "0        42400      81.8              155  \n",
       "1        48300      81.0              154  \n",
       "2        66300      82.6              153  \n",
       "3        47900      83.0              152  \n",
       "4        50500      81.8              151  "
      ]
     },
     "execution_count": 31,
     "metadata": {},
     "output_type": "execute_result"
    }
   ],
   "source": [
    "happy = pd.read_csv(\"data/world_happiness.csv\")\n",
    "happy.head()"
   ]
  },
  {
   "cell_type": "code",
   "execution_count": 37,
   "id": "3353dd92",
   "metadata": {
    "scrolled": true
   },
   "outputs": [
    {
     "data": {
      "image/png": "[encoded data removed]",
      "text/plain": [
       "<Figure size 640x480 with 1 Axes>"
      ]
     },
     "metadata": {},
     "output_type": "display_data"
    }
   ],
   "source": [
    "import seaborn as sns\n",
    "\n",
    "\n",
    "sns.scatterplot(x = \"life_exp\", y = \"happiness_score\", data = happy)\n",
    "\n",
    "plt.show()"
   ]
  },
  {
   "cell_type": "markdown",
   "id": "4f94f03f",
   "metadata": {},
   "source": [
    "## Adding a trendline"
   ]
  },
  {
   "cell_type": "code",
   "execution_count": 40,
   "id": "ffef12b3",
   "metadata": {},
   "outputs": [
    {
     "data": {
      "image/png": "[encoded data removed]",
      "text/plain": [
       "<Figure size 500x500 with 1 Axes>"
      ]
     },
     "metadata": {},
     "output_type": "display_data"
    }
   ],
   "source": [
    "\n",
    "sns.lmplot(x = \"life_exp\", y = \"happiness_score\", data = happy, ci = None)\n",
    "plt.show()"
   ]
  },
  {
   "cell_type": "code",
   "execution_count": 42,
   "id": "17249e86",
   "metadata": {},
   "outputs": [
    {
     "name": "stdout",
     "output_type": "stream",
     "text": [
      "0.7802249053272062\n"
     ]
    }
   ],
   "source": [
    "# Correlation between life_exp and happiness_score\n",
    "cor = happy['life_exp'].corr(happy['happiness_score'])\n",
    "print(cor)"
   ]
  },
  {
   "cell_type": "markdown",
   "id": "907765a0",
   "metadata": {},
   "source": [
    "# Correlation Caveats\n",
    "Correlation is used only for linear data. Otherwise, it is of no use, despite the magnitude.\n",
    "\n",
    "## 1. Non-Linear Relationship -> Visualize data before\n",
    "## 2. Then Transform: Log Transformation (Skewed Data)\n",
    "\n",
    "Other Transformations: Square Root Transformation, Reciprocal Transformation, Combination transformations (sqrt(x) and log(y))\n",
    "\n",
    "## 3. Correlation doesn't imply causation.\n",
    "\n"
   ]
  },
  {
   "cell_type": "markdown",
   "id": "47d79eae",
   "metadata": {},
   "source": [
    "# Handling Non - Linear Relationships"
   ]
  },
  {
   "cell_type": "code",
   "execution_count": 44,
   "id": "ea2080c1",
   "metadata": {
    "scrolled": true
   },
   "outputs": [
    {
     "data": {
      "image/png": "[encoded data removed]",
      "text/plain": [
       "<Figure size 640x480 with 1 Axes>"
      ]
     },
     "metadata": {},
     "output_type": "display_data"
    }
   ],
   "source": [
    "# Scatterplot of gdp_per_cap and life_exp\n",
    "sns.scatterplot(x = \"gdp_per_cap\", y = \"life_exp\", data = happy)\n",
    "\n",
    "# Show plot\n",
    "plt.show()"
   ]
  },
  {
   "cell_type": "code",
   "execution_count": 46,
   "id": "5973aae4",
   "metadata": {
    "scrolled": true
   },
   "outputs": [
    {
     "name": "stdout",
     "output_type": "stream",
     "text": [
      "0.7019547642148015\n"
     ]
    }
   ],
   "source": [
    "# Correlation between gdp_per_cap and life_exp\n",
    "cor = happy['gdp_per_cap'].corr(happy['life_exp'])\n",
    "\n",
    "print(cor)"
   ]
  },
  {
   "cell_type": "markdown",
   "id": "6b2577dc",
   "metadata": {},
   "source": [
    "## Step 1: Visualize the Data\n",
    "\n",
    "Currently we are considering the gdp of a country (gdp_per_cap) and the happiness score of the country (happiness_score).\n"
   ]
  },
  {
   "cell_type": "code",
   "execution_count": 47,
   "id": "848a7ef4",
   "metadata": {},
   "outputs": [
    {
     "data": {
      "image/png": "[encoded data removed]",
      "text/plain": [
       "<Figure size 640x480 with 1 Axes>"
      ]
     },
     "metadata": {},
     "output_type": "display_data"
    }
   ],
   "source": [
    "# Scatter Plot between gdp_per_cap and happiness_score\n",
    "\n",
    "sns.scatterplot(x = \"gdp_per_cap\", y = \"happiness_score\", data = happy)\n",
    "plt.show()"
   ]
  },
  {
   "cell_type": "code",
   "execution_count": 49,
   "id": "48c65db6",
   "metadata": {},
   "outputs": [
    {
     "name": "stdout",
     "output_type": "stream",
     "text": [
      "0.7279733012222976\n"
     ]
    }
   ],
   "source": [
    "# Calculate correlation\n",
    "cor = happy['happiness_score'].corr(happy['gdp_per_cap'])\n",
    "print(cor)"
   ]
  },
  {
   "cell_type": "markdown",
   "id": "f45f8bd3",
   "metadata": {},
   "source": [
    "## Step 2: Log Transformation"
   ]
  },
  {
   "cell_type": "code",
   "execution_count": 51,
   "id": "7a020efb",
   "metadata": {},
   "outputs": [
    {
     "data": {
      "image/png": "[encoded data removed]",
      "text/plain": [
       "<Figure size 640x480 with 1 Axes>"
      ]
     },
     "metadata": {},
     "output_type": "display_data"
    }
   ],
   "source": [
    "happy['log_gdp_per_cap'] = np.log(happy['gdp_per_cap'])\n",
    "\n",
    "sns.scatterplot(x = \"log_gdp_per_cap\", y = \"happiness_score\", data = happy)\n",
    "plt.show()"
   ]
  },
  {
   "cell_type": "code",
   "execution_count": 52,
   "id": "07c3b4bf",
   "metadata": {},
   "outputs": [
    {
     "name": "stdout",
     "output_type": "stream",
     "text": [
      "0.8043146004918288\n"
     ]
    }
   ],
   "source": [
    "# Now that we see a linear relationship, we'll find out the correlation\n",
    "\n",
    "cor = happy['log_gdp_per_cap'].corr(happy['happiness_score'])\n",
    "print(cor)"
   ]
  },
  {
   "cell_type": "code",
   "execution_count": null,
   "id": "191a9ec5",
   "metadata": {},
   "outputs": [],
   "source": []
  }
 ],
 "metadata": {
  "kernelspec": {
   "display_name": "Python 3 (ipykernel)",
   "language": "python",
   "name": "python3"
  },
  "language_info": {
   "codemirror_mode": {
    "name": "ipython",
    "version": 3
   },
   "file_extension": ".py",
   "mimetype": "text/x-python",
   "name": "python",
   "nbconvert_exporter": "python",
   "pygments_lexer": "ipython3",
   "version": "3.10.9"
  }
 },
 "nbformat": 4,
 "nbformat_minor": 5
}
